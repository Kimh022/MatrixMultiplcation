{
  "nbformat": 4,
  "nbformat_minor": 0,
  "metadata": {
    "colab": {
      "provenance": []
    },
    "kernelspec": {
      "name": "python3",
      "display_name": "Python 3"
    },
    "language_info": {
      "name": "python"
    }
  },
  "cells": [
    {
      "cell_type": "code",
      "execution_count": null,
      "metadata": {
        "colab": {
          "base_uri": "https://localhost:8080/"
        },
        "id": "ZWnxNOjPd9Wh",
        "outputId": "ae2230e1-0362-429d-a89d-6c6aa295b1c6"
      },
      "outputs": [
        {
          "output_type": "stream",
          "name": "stdout",
          "text": [
            "[[2, 4], [6, 8]]\n"
          ]
        }
      ],
      "source": [
        "def multiply(A,B):\n",
        "  n = len(A)\n",
        "  C = [[0]*n for i in range(n)]\n",
        "  for i in range(n):\n",
        "    for j in range(n):\n",
        "      C[i][j] = 0\n",
        "      for k in range(n):\n",
        "        C[i][j] = C[i][j] + A[i][j] * B[k][j]\n",
        "  return C\n",
        "A = [[1,2],[3,4]]\n",
        "B = [[1,1],[1,1]]\n",
        "print(multiply(A,B))"
      ]
    },
    {
      "cell_type": "code",
      "source": [],
      "metadata": {
        "id": "0g90VZohevQL"
      },
      "execution_count": null,
      "outputs": []
    }
  ]
}